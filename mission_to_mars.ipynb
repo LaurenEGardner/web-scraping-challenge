{
 "cells": [
  {
   "cell_type": "code",
   "execution_count": 61,
   "metadata": {},
   "outputs": [],
   "source": [
    "from splinter import Browser\n",
    "from bs4 import BeautifulSoup as bs\n",
    "import time\n",
    "from pprint import pprint\n",
    "import requests"
   ]
  },
  {
   "cell_type": "code",
   "execution_count": 24,
   "metadata": {},
   "outputs": [],
   "source": [
    "def init_browser():\n",
    "    # @NOTE: Replace the path with your actual path to the chromedriver\n",
    "    executable_path = {\"executable_path\": \"C:/Users/Wayne Gardner/Desktop/chromedriver/chromedriver.exe\"}\n",
    "    return Browser(\"chrome\", **executable_path, headless=False)\n"
   ]
  },
  {
   "cell_type": "code",
   "execution_count": 172,
   "metadata": {},
   "outputs": [],
   "source": [
    "def scrape_info():\n",
    "    browser = init_browser()\n",
    "\n",
    "    # Visit the nasa mars news website\n",
    "    url = \"https://mars.nasa.gov/news\"\n",
    "    browser.visit(url)\n",
    "\n",
    "    # Pause for page to load\n",
    "    time.sleep(1)\n",
    "\n",
    "    # Scrape page into Soup\n",
    "    html = browser.html\n",
    "    soup = bs(html, \"html.parser\")\n",
    "    \n",
    "    #Scrape the NASA Mars News Site and collect the latest News Title and Paragraph Text.\n",
    "    #Assign the text to variables that you can reference later.\n",
    "\n",
    "    headline = soup.find_all(\"div\", class_=\"content_title\")\n",
    "    news_title=headline[1].text\n",
    "    article = soup.find_all(\"div\", class_=\"article_teaser_body\")\n",
    "    news_p=article[0].text\n",
    "    \n",
    "    # Visit the url for JPL Featured Space Image\n",
    "    url2 = \"https://www.jpl.nasa.gov/spaceimages/?search=&category=Mars\"\n",
    "    browser.visit(url2)\n",
    "\n",
    "    # Pause for page to load\n",
    "    time.sleep(1)\n",
    "\n",
    "    # Scrape page into Soup\n",
    "    html = browser.html\n",
    "    soup = bs(html, \"html.parser\")\n",
    "    \n",
    "    #navigate the site and find the image url for the current Featured Mars Image\n",
    "    #and assign the url string to a variable called featured_image_url.\n",
    "    relative_image_path = soup.find('article', class_=\"carousel_item\")['style']\n",
    "    relative_image_path_url=relative_image_path.split(\"('\", 1)[1].split(\"')\")[0]\n",
    "    featured_image_url = \"https://www.jpl.nasa.gov/\" + relative_image_path_url\n",
    "    \n",
    "    \n",
    "    # Visit the Mars Facts webpage\n",
    "    url3 = \"https://space-facts.com/mars/\"\n",
    "    browser.visit(url3)\n",
    "\n",
    "    # Pause for page to load\n",
    "    time.sleep(1)\n",
    "\n",
    "    # Scrape page into Soup\n",
    "    html3 = browser.html\n",
    "    soup = bs(html3, \"html.parser\")\n",
    "    \n",
    "    #scrape the table containing facts about the planet including Diameter, Mass, etc.\n",
    "    facts=soup.find_all(class_=\"column-2\")\n",
    "    eq_diam=facts[0].text\n",
    "    polar_diam=facts[1].text\n",
    "    mass=facts[2].text\n",
    "    moons = facts[3].text\n",
    "    orb_dist=facts[4].text\n",
    "    orb_period=facts[5].text\n",
    "    surf_temp=facts[6].text\n",
    "    first_rec=facts[7].text\n",
    "    rec_by=facts[8].text\n",
    "    \n",
    "    \n",
    "    #building fact table\n",
    "    mars_facts={\n",
    "        \"Equatorial Diameter\":eq_diam,\n",
    "        \"Polar Diameter\":polar_diam,\n",
    "        \"Mass\":mass,\n",
    "        \"Moons\":moons,\n",
    "        \"Orbit Distance\":orb_dist,\n",
    "        \"Orbit Period\":orb_period,\n",
    "        \"Surface Temp\":surf_temp,\n",
    "        \"First Record\":first_rec,\n",
    "        \"Recorded By\":rec_by\n",
    "    }\n",
    "    \n",
    "    print(news_title)\n",
    "    print(\"-----\")\n",
    "    print(news_p)\n",
    "    print(\"-----\")\n",
    "    print(featured_image_url)\n",
    "    print(\"-----\")\n",
    "    print(mars_facts)"
   ]
  },
  {
   "cell_type": "code",
   "execution_count": 170,
   "metadata": {},
   "outputs": [],
   "source": [
    "def scrape_info():\n",
    "    browser = init_browser()\n",
    "\n",
    "    # Visit the USGS Astrogeology site \n",
    "    url = \"https://astrogeology.usgs.gov/search/results?q=hemisphere+enhanced&k1=target&v1=Mars\"\n",
    "    browser.visit(url)\n",
    "\n",
    "    # Pause for page to load\n",
    "    time.sleep(1)\n",
    "\n",
    "    # Scrape page into Soup\n",
    "    html = browser.html\n",
    "    soup = bs(html, \"html.parser\")\n",
    "\n",
    "    \n",
    "    \n",
    "        \n",
    "    "
   ]
  },
  {
   "cell_type": "code",
   "execution_count": 173,
   "metadata": {
    "scrolled": false
   },
   "outputs": [
    {
     "name": "stdout",
     "output_type": "stream",
     "text": [
      "NASA Moves Forward With Campaign to Return Mars Samples to Earth\n",
      "-----\n",
      "During this next phase, the program will mature critical technologies and make critical design decisions as well as assess industry partnerships.\n",
      "-----\n",
      "https://www.jpl.nasa.gov//spaceimages/images/wallpaper/PIA19141-1920x1200.jpg\n",
      "-----\n",
      "{'Equatorial Diameter': '6,792 km', 'Polar Diameter': '6,752 km', 'Mass': '6.39 × 10^23 kg (0.11 Earths)', 'Moons': '2 (Phobos & Deimos)', 'Orbit Distance': '227,943,824 km (1.38 AU)', 'Orbit Period': '687 days (1.9 years)', 'Surface Temp': '-87 to -5 °C', 'First Record': '2nd millennium BC', 'Recorded By': 'Egyptian astronomers'}\n"
     ]
    }
   ],
   "source": [
    "scrape_info()"
   ]
  },
  {
   "cell_type": "code",
   "execution_count": 152,
   "metadata": {},
   "outputs": [
    {
     "name": "stdout",
     "output_type": "stream",
     "text": [
      "[<td class=\"column-2\">6,792 km<br/></td>,\n",
      " <td class=\"column-2\">6,752 km<br/></td>,\n",
      " <td class=\"column-2\">6.39 × 10^23 kg<br/> (0.11 Earths)</td>,\n",
      " <td class=\"column-2\">2 (<a href=\"https://space-facts.com/moons/phobos/\">Phobos</a> &amp; <a href=\"https://space-facts.com/moons/deimos/\">Deimos</a>)</td>,\n",
      " <td class=\"column-2\">227,943,824 km<br/> (1.38 AU)</td>,\n",
      " <td class=\"column-2\">687 days (1.9 years)<br/></td>,\n",
      " <td class=\"column-2\">-87 to -5 °C</td>,\n",
      " <td class=\"column-2\">2nd millennium BC</td>,\n",
      " <td class=\"column-2\">Egyptian astronomers</td>,\n",
      " <th class=\"column-2\"><span class=\"mars\">Mars</span></th>,\n",
      " <td class=\"column-2\"><span class=\"mars-s\">6,779 km</span></td>,\n",
      " <td class=\"column-2\"><span class=\"mars-s\">6.39 × 10^23 kg</span></td>,\n",
      " <td class=\"column-2\"><span class=\"mars-s\">2</span></td>,\n",
      " <td class=\"column-2\"><span class=\"mars-s\">227,943,824 km</span></td>,\n",
      " <td class=\"column-2\"><span class=\"mars-s\">687 Earth days</span></td>,\n",
      " <td class=\"column-2\"><span class=\"mars-s\">-87 to -5 °C</span></td>,\n",
      " <td class=\"column-2\">6,792 km<br/></td>,\n",
      " <td class=\"column-2\">6,752 km<br/></td>,\n",
      " <td class=\"column-2\">6.39 × 10^23 kg<br/> (0.11 Earths)</td>,\n",
      " <td class=\"column-2\">2 (<a href=\"https://space-facts.com/moons/phobos/\">Phobos</a> &amp; <a href=\"https://space-facts.com/moons/deimos/\">Deimos</a>)</td>,\n",
      " <td class=\"column-2\">227,943,824 km<br/> (1.38 AU)</td>,\n",
      " <td class=\"column-2\">687 days (1.9 years)<br/></td>,\n",
      " <td class=\"column-2\">-87 to -5 °C</td>,\n",
      " <td class=\"column-2\">2nd millennium BC</td>,\n",
      " <td class=\"column-2\">Egyptian astronomers</td>]\n"
     ]
    }
   ],
   "source": [
    "scrape_info()"
   ]
  },
  {
   "cell_type": "code",
   "execution_count": 142,
   "metadata": {
    "scrolled": true
   },
   "outputs": [
    {
     "name": "stdout",
     "output_type": "stream",
     "text": [
      "[<tbody><tr class=\"row-1 odd\"><td class=\"column-1\"><strong>Equatorial Diameter:</strong></td><td class=\"column-2\">6,792 km<br/></td></tr><tr class=\"row-2 even\"><td class=\"column-1\"><strong>Polar Diameter:</strong></td><td class=\"column-2\">6,752 km<br/></td></tr><tr class=\"row-3 odd\"><td class=\"column-1\"><strong>Mass:</strong></td><td class=\"column-2\">6.39 × 10^23 kg<br/> (0.11 Earths)</td></tr><tr class=\"row-4 even\"><td class=\"column-1\"><strong>Moons:</strong></td><td class=\"column-2\">2 (<a href=\"https://space-facts.com/moons/phobos/\">Phobos</a> &amp; <a href=\"https://space-facts.com/moons/deimos/\">Deimos</a>)</td></tr><tr class=\"row-5 odd\"><td class=\"column-1\"><strong>Orbit Distance:</strong></td><td class=\"column-2\">227,943,824 km<br/> (1.38 AU)</td></tr><tr class=\"row-6 even\"><td class=\"column-1\"><strong>Orbit Period:</strong></td><td class=\"column-2\">687 days (1.9 years)<br/></td></tr><tr class=\"row-7 odd\"><td class=\"column-1\"><strong>Surface Temperature: </strong></td><td class=\"column-2\">-87 to -5 °C</td></tr><tr class=\"row-8 even\"><td class=\"column-1\"><strong>First Record:</strong></td><td class=\"column-2\">2nd millennium BC</td></tr><tr class=\"row-9 odd\"><td class=\"column-1\"><strong>Recorded By:</strong></td><td class=\"column-2\">Egyptian astronomers</td></tr></tbody>,\n",
      " <tbody><tr class=\"row-2\"><td class=\"column-1\">Diameter:</td><td class=\"column-2\"><span class=\"mars-s\">6,779 km</span></td><td class=\"column-3\"><span class=\"earth-s\">12,742 km</span></td></tr><tr class=\"row-3\"><td class=\"column-1\">Mass:</td><td class=\"column-2\"><span class=\"mars-s\">6.39 × 10^23 kg</span></td><td class=\"column-3\"><span class=\"earth-s\">5.97 × 10^24 kg</span></td></tr><tr class=\"row-4\"><td class=\"column-1\">Moons:</td><td class=\"column-2\"><span class=\"mars-s\">2</span></td><td class=\"column-3\"><span class=\"earth-s\">1</span></td></tr><tr class=\"row-5\"><td class=\"column-1\">Distance from Sun:</td><td class=\"column-2\"><span class=\"mars-s\">227,943,824 km</span></td><td class=\"column-3\"><span class=\"earth-s\">149,598,262 km</span></td></tr><tr class=\"row-6\"><td class=\"column-1\">Length of Year:</td><td class=\"column-2\"><span class=\"mars-s\">687 Earth days</span></td><td class=\"column-3\"><span class=\"earth-s\">365.24 days</span></td></tr><tr class=\"row-7\"><td class=\"column-1\">Temperature:</td><td class=\"column-2\"><span class=\"mars-s\">-87 to -5 °C</span></td><td class=\"column-3\"><span class=\"earth-s\">-88 to 58°C</span></td></tr></tbody>,\n",
      " <tbody><tr class=\"row-1 odd\"><td class=\"column-1\"><strong>Equatorial Diameter:</strong></td><td class=\"column-2\">6,792 km<br/></td></tr><tr class=\"row-2 even\"><td class=\"column-1\"><strong>Polar Diameter:</strong></td><td class=\"column-2\">6,752 km<br/></td></tr><tr class=\"row-3 odd\"><td class=\"column-1\"><strong>Mass:</strong></td><td class=\"column-2\">6.39 × 10^23 kg<br/> (0.11 Earths)</td></tr><tr class=\"row-4 even\"><td class=\"column-1\"><strong>Moons:</strong></td><td class=\"column-2\">2 (<a href=\"https://space-facts.com/moons/phobos/\">Phobos</a> &amp; <a href=\"https://space-facts.com/moons/deimos/\">Deimos</a>)</td></tr><tr class=\"row-5 odd\"><td class=\"column-1\"><strong>Orbit Distance:</strong></td><td class=\"column-2\">227,943,824 km<br/> (1.38 AU)</td></tr><tr class=\"row-6 even\"><td class=\"column-1\"><strong>Orbit Period:</strong></td><td class=\"column-2\">687 days (1.9 years)<br/></td></tr><tr class=\"row-7 odd\"><td class=\"column-1\"><strong>Surface Temperature: </strong></td><td class=\"column-2\">-87 to -5 °C</td></tr><tr class=\"row-8 even\"><td class=\"column-1\"><strong>First Record:</strong></td><td class=\"column-2\">2nd millennium BC</td></tr><tr class=\"row-9 odd\"><td class=\"column-1\"><strong>Recorded By:</strong></td><td class=\"column-2\">Egyptian astronomers</td></tr></tbody>]\n"
     ]
    }
   ],
   "source": [
    "scrape_info()"
   ]
  },
  {
   "cell_type": "code",
   "execution_count": null,
   "metadata": {},
   "outputs": [],
   "source": []
  }
 ],
 "metadata": {
  "kernelspec": {
   "display_name": "Python 3",
   "language": "python",
   "name": "python3"
  },
  "language_info": {
   "codemirror_mode": {
    "name": "ipython",
    "version": 3
   },
   "file_extension": ".py",
   "mimetype": "text/x-python",
   "name": "python",
   "nbconvert_exporter": "python",
   "pygments_lexer": "ipython3",
   "version": "3.6.10"
  }
 },
 "nbformat": 4,
 "nbformat_minor": 4
}
